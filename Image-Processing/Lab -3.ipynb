{
 "cells": [
  {
   "cell_type": "code",
   "execution_count": 2,
   "id": "6b8dac7c-2b72-44b0-aabf-15e6cb32de9f",
   "metadata": {},
   "outputs": [],
   "source": [
    "import cv2 as cv\n",
    "import numpy as np"
   ]
  },
  {
   "cell_type": "code",
   "execution_count": 3,
   "id": "639aaa8e-e660-4d57-a084-177ef2ae7bf6",
   "metadata": {},
   "outputs": [],
   "source": [
    "height = 480"
   ]
  },
  {
   "cell_type": "code",
   "execution_count": 4,
   "id": "c88d7cd0-341d-494f-b28f-a4cd921a06c2",
   "metadata": {},
   "outputs": [],
   "source": [
    "width = 640"
   ]
  },
  {
   "cell_type": "code",
   "execution_count": 5,
   "id": "9795de26-7ec3-47cf-b253-de138c348a40",
   "metadata": {},
   "outputs": [],
   "source": [
    "img = np.ones((height, width, 3), np.uint8)"
   ]
  },
  {
   "cell_type": "code",
   "execution_count": 6,
   "id": "c775ac18-7f9b-4d4d-a45a-dca6e6df8f37",
   "metadata": {},
   "outputs": [],
   "source": [
    "img[:,:]=(255)"
   ]
  },
  {
   "cell_type": "code",
   "execution_count": 7,
   "id": "bac7758d-59c3-41d6-88d0-8a42d73cdd06",
   "metadata": {},
   "outputs": [],
   "source": [
    "cv.imshow('white image',img)"
   ]
  },
  {
   "cell_type": "code",
   "execution_count": 8,
   "id": "26b936de-a6c5-40e7-9188-fc3eafec36d2",
   "metadata": {},
   "outputs": [],
   "source": [
    "img[:,:]=(255,0,0)"
   ]
  },
  {
   "cell_type": "code",
   "execution_count": 9,
   "id": "f3ab8033-4da2-4f28-af13-4abd9aa02d79",
   "metadata": {},
   "outputs": [],
   "source": [
    "cv.imshow('Blue image',img)"
   ]
  },
  {
   "cell_type": "code",
   "execution_count": 10,
   "id": "94aa8729-444c-415a-823c-19c681c3276c",
   "metadata": {},
   "outputs": [],
   "source": [
    "img[:,:]=(0,255,0)"
   ]
  },
  {
   "cell_type": "code",
   "execution_count": 11,
   "id": "867cf3c5-2401-498c-ac26-fa348edf93c9",
   "metadata": {},
   "outputs": [],
   "source": [
    "cv.imshow('Green image',img)"
   ]
  },
  {
   "cell_type": "code",
   "execution_count": null,
   "id": "28cfd64e-b184-477b-9329-17826935d5ae",
   "metadata": {},
   "outputs": [],
   "source": []
  },
  {
   "cell_type": "code",
   "execution_count": null,
   "id": "dbd6b8c1-dd9f-49bf-8b62-5149976fdc8f",
   "metadata": {},
   "outputs": [],
   "source": []
  }
 ],
 "metadata": {
  "kernelspec": {
   "display_name": "Python 3 (ipykernel)",
   "language": "python",
   "name": "python3"
  },
  "language_info": {
   "codemirror_mode": {
    "name": "ipython",
    "version": 3
   },
   "file_extension": ".py",
   "mimetype": "text/x-python",
   "name": "python",
   "nbconvert_exporter": "python",
   "pygments_lexer": "ipython3",
   "version": "3.13.1"
  }
 },
 "nbformat": 4,
 "nbformat_minor": 5
}
