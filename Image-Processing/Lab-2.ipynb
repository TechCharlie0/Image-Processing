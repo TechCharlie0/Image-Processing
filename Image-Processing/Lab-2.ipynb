{
 "cells": [
  {
   "cell_type": "code",
   "execution_count": 1,
   "id": "fa16326d-e0e5-4bb0-92eb-e086eb41fbff",
   "metadata": {},
   "outputs": [],
   "source": [
    "import cv2"
   ]
  },
  {
   "cell_type": "code",
   "execution_count": 2,
   "id": "e13b62d1-a14d-478c-8ec2-14b5f4f92634",
   "metadata": {},
   "outputs": [],
   "source": [
    "import sys"
   ]
  },
  {
   "cell_type": "code",
   "execution_count": 3,
   "id": "86b065ca-3589-4ceb-af10-d90b79042cf7",
   "metadata": {},
   "outputs": [],
   "source": [
    "import numpy as np"
   ]
  },
  {
   "cell_type": "code",
   "execution_count": 4,
   "id": "90ea1dad-776c-4d60-82e8-91f05441065a",
   "metadata": {},
   "outputs": [],
   "source": [
    "a1 = np.array([[1,3,5,7],\n",
    "               [2,4,6,8]])"
   ]
  },
  {
   "cell_type": "code",
   "execution_count": 5,
   "id": "0085665a-6eda-49bb-9113-6006f843c22a",
   "metadata": {},
   "outputs": [
    {
     "name": "stdout",
     "output_type": "stream",
     "text": [
      "[[1 3 5 7]\n",
      " [2 4 6 8]]\n"
     ]
    }
   ],
   "source": [
    "print (a1)"
   ]
  },
  {
   "cell_type": "code",
   "execution_count": 6,
   "id": "9dafeefa-df11-4ea1-b760-b94ecd270fda",
   "metadata": {},
   "outputs": [],
   "source": [
    "b1 = a1[0:2, 0:3]"
   ]
  },
  {
   "cell_type": "code",
   "execution_count": 7,
   "id": "0ed8fe77-6dff-40b0-a1a8-0f7a691314d0",
   "metadata": {},
   "outputs": [
    {
     "name": "stdout",
     "output_type": "stream",
     "text": [
      "[[1 3 5]\n",
      " [2 4 6]]\n"
     ]
    }
   ],
   "source": [
    "print (b1)"
   ]
  },
  {
   "cell_type": "code",
   "execution_count": 8,
   "id": "5a636e86-090a-4a5b-a364-bcd3eb1c04a4",
   "metadata": {},
   "outputs": [],
   "source": [
    "c1 = a1[1:, 1:3]\n"
   ]
  },
  {
   "cell_type": "code",
   "execution_count": 9,
   "id": "f3ececc5-1823-4bae-9e2c-939cf7126fe7",
   "metadata": {},
   "outputs": [
    {
     "name": "stdout",
     "output_type": "stream",
     "text": [
      "[[4 6]]\n"
     ]
    }
   ],
   "source": [
    "print(c1)"
   ]
  },
  {
   "cell_type": "code",
   "execution_count": 10,
   "id": "b0a323be-debb-4127-b81e-8fe019920f8a",
   "metadata": {},
   "outputs": [],
   "source": [
    "d1 = a1[:,1:]"
   ]
  },
  {
   "cell_type": "code",
   "execution_count": 11,
   "id": "7b4f4332-b0ab-49bc-8b10-4af5dfd8092f",
   "metadata": {},
   "outputs": [
    {
     "name": "stdout",
     "output_type": "stream",
     "text": [
      "[[3 5 7]\n",
      " [4 6 8]]\n"
     ]
    }
   ],
   "source": [
    "print (d1)"
   ]
  },
  {
   "cell_type": "code",
   "execution_count": null,
   "id": "d6b610c7-9a0a-4628-8ddd-215123ecbe19",
   "metadata": {},
   "outputs": [],
   "source": []
  }
 ],
 "metadata": {
  "kernelspec": {
   "display_name": "Python 3 (ipykernel)",
   "language": "python",
   "name": "python3"
  },
  "language_info": {
   "codemirror_mode": {
    "name": "ipython",
    "version": 3
   },
   "file_extension": ".py",
   "mimetype": "text/x-python",
   "name": "python",
   "nbconvert_exporter": "python",
   "pygments_lexer": "ipython3",
   "version": "3.13.1"
  }
 },
 "nbformat": 4,
 "nbformat_minor": 5
}
